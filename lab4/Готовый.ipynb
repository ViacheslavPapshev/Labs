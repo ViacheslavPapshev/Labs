{
 "cells": [
  {
   "cell_type": "code",
   "execution_count": 1,
   "metadata": {},
   "outputs": [
    {
     "name": "stdout",
     "output_type": "stream",
     "text": [
      "Random Forest ROC AUC: 0.8111266947171576\n"
     ]
    }
   ],
   "source": [
    "import pandas as pd\n",
    "import numpy as np\n",
    "from sklearn.model_selection import train_test_split, GridSearchCV\n",
    "from sklearn.linear_model import LogisticRegression\n",
    "from sklearn.ensemble import RandomForestClassifier\n",
    "from xgboost import XGBClassifier\n",
    "from sklearn.preprocessing import PolynomialFeatures\n",
    "from imblearn.over_sampling import SMOTE\n",
    "from sklearn.metrics import roc_auc_score\n",
    " \n",
    "# Загрузка и подготовка данных\n",
    "data = pd.read_csv('german.csv', sep=';')\n",
    "X = data.iloc[:, 1:].values\n",
    "y = data.iloc[:, 0].values\n",
    " \n",
    "# Разделение на обучающий и тестовый наборы данных\n",
    "X_train, X_test, y_train, y_test = train_test_split(X, y, test_size=0.2, random_state=42)\n",
    " \n",
    "# Инженерия признаков с полиномиальными признаками (степень 2)\n",
    "poly = PolynomialFeatures(degree=2)\n",
    "X_train_poly = poly.fit_transform(X_train)\n",
    "X_test_poly = poly.transform(X_test)\n",
    " \n",
    "\n",
    "\n",
    " \n",
    "# Случайный лес\n",
    "param_grid_rf = {'n_estimators': [100, 200, 500]}\n",
    "grid_search_rf = GridSearchCV(RandomForestClassifier(), param_grid_rf, cv=5)\n",
    "grid_search_rf.fit(X_train_poly, y_train)\n",
    "best_rf = grid_search_rf.best_estimator_\n",
    " \n",
    " \n",
    "# Применение SMOTE для перебалансировки классов\n",
    "smote = SMOTE(random_state=42)\n",
    "X_train_resampled, y_train_resampled = smote.fit_resample(X_train_poly, y_train)\n",
    " \n",
    "# Обучение моделей на сбалансированных данных\n",
    "best_rf.fit(X_train_resampled, y_train_resampled)\n",
    "\n",
    " \n",
    "# Прогноз на тестовых данных\n",
    "y_pred_rf = best_rf.predict_proba(X_test_poly)[:, 1]\n",
    "\n",
    " \n",
    "# Вычисление метрики ROC AUC\n",
    "roc_auc_rf = roc_auc_score(y_test, y_pred_rf)\n",
    "\n",
    "\n",
    "\n",
    "print(\"Random Forest ROC AUC:\", roc_auc_rf)"
   ]
  },
  {
   "cell_type": "code",
   "execution_count": 2,
   "metadata": {},
   "outputs": [
    {
     "name": "stdout",
     "output_type": "stream",
     "text": [
      "ROC AUC: Gradient boosting 0.7594670406732118\n"
     ]
    }
   ],
   "source": [
    "import pandas as pd\n",
    "import numpy as np\n",
    "from sklearn.model_selection import train_test_split, GridSearchCV\n",
    "from sklearn.ensemble import GradientBoostingClassifier\n",
    "from imblearn.over_sampling import SMOTE\n",
    "from sklearn.metrics import roc_auc_score\n",
    " \n",
    "# Загрузка и подготовка данных\n",
    "data = pd.read_csv('german.csv', sep=';')\n",
    "X = data.iloc[:, 1:].values\n",
    "y = data.iloc[:, 0].values\n",
    " \n",
    "# Разделение на обучающий и тестовый наборы данных\n",
    "X_train, X_test, y_train, y_test = train_test_split(X, y, test_size=0.2, random_state=42)\n",
    " \n",
    "# Применение SMOTE для перебалансировки классов\n",
    "smote = SMOTE(random_state=42)\n",
    "X_train_resampled, y_train_resampled = smote.fit_resample(X_train, y_train)\n",
    " \n",
    "# Подбор гиперпараметров с помощью GridSearchCV\n",
    "param_grid = {'n_estimators': [100, 200, 500, 600, 1000], 'learning_rate': [0.1, 0.01, 0.001]}\n",
    "grid_search = GridSearchCV(GradientBoostingClassifier(), param_grid, cv=5)\n",
    "grid_search.fit(X_train_resampled, y_train_resampled)\n",
    "best_model = grid_search.best_estimator_\n",
    "\n",
    "# Прогноз на тестовых данных\n",
    "y_pred = best_model.predict_proba(X_test)[:, 1]\n",
    " \n",
    "# Вычисление метрики ROC AUC\n",
    "roc_auc = roc_auc_score(y_test, y_pred)\n",
    " \n",
    "print(\"ROC AUC: Gradient boosting\", roc_auc)"
   ]
  },
  {
   "cell_type": "code",
   "execution_count": 3,
   "metadata": {},
   "outputs": [
    {
     "name": "stderr",
     "output_type": "stream",
     "text": [
      "d:\\Python\\lib\\site-packages\\sklearn\\neural_network\\_multilayer_perceptron.py:698: UserWarning: Training interrupted by user.\n",
      "  warnings.warn(\"Training interrupted by user.\")\n",
      "d:\\Python\\lib\\site-packages\\sklearn\\neural_network\\_multilayer_perceptron.py:691: ConvergenceWarning: Stochastic Optimizer: Maximum iterations (200) reached and the optimization hasn't converged yet.\n",
      "  warnings.warn(\n"
     ]
    }
   ],
   "source": [
    "import pandas as pd\n",
    "import numpy as np\n",
    "from sklearn.model_selection import train_test_split, GridSearchCV\n",
    "from sklearn.neural_network import MLPClassifier\n",
    "from sklearn.preprocessing import StandardScaler\n",
    "from imblearn.over_sampling import SMOTE\n",
    "from sklearn.metrics import roc_auc_score\n",
    " \n",
    "# Загрузка и подготовка данных\n",
    "data1 = pd.read_csv('german.csv')\n",
    " \n",
    "# Применяйте необходимые преобразования и оцените оптимальные признаки для вашего случая\n",
    "# Здесь предполагается, что данные уже подготовлены и масштабированы\n",
    " \n",
    "# Выделение признаков и целевой переменной\n",
    "X = data.iloc[:, 1:].to_numpy()\n",
    "y = data.iloc[:, 0].to_numpy()\n",
    " \n",
    "# Разделение на обучающий и тестовый наборы данных\n",
    "X_train, X_test, y_train, y_test = train_test_split(X, y, test_size=0.2, random_state=42)\n",
    " \n",
    "# Масштабирование признаков\n",
    "scaler = StandardScaler()\n",
    "X_train = scaler.fit_transform(X_train)\n",
    "X_test = scaler.transform(X_test)\n",
    " \n",
    "# Применение SMOTE для перебалансировки классов в обучающем наборе\n",
    "smote = SMOTE(random_state=42)\n",
    "X_train_resampled, y_train_resampled = smote.fit_resample(X_train, y_train)\n",
    " \n",
    "# Подбор оптимальных параметров с помощью GridSearchCV\n",
    "parameters = {'hidden_layer_sizes': [(100, 50), (50, 50, 50), (100, 100, 100)],\n",
    "              'activation': ['logistic', 'relu'],\n",
    "              'alpha': [0.0001, 0.001, 0.01]}\n",
    "mlp = MLPClassifier(random_state=42)\n",
    "grid_search = GridSearchCV(mlp, parameters, cv=5, scoring='roc_auc')\n",
    "grid_search.fit(X_train_resampled, y_train_resampled)\n",
    " \n",
    "# Лучшая модель после подбора параметров\n",
    "best_mlp = grid_search.best_estimator_\n",
    " \n",
    "# Прогноз на тестовых данных\n",
    "y_pred = best_mlp.predict_proba(X_test)[:, 1]\n",
    " \n",
    "# Вычисление и вывод метрики ROC AUC\n",
    "roc_auc = roc_auc_score(y_test, y_pred)\n",
    "if roc_auc > 0.8:\n",
    "    print(\"Метрика ROC AUC больше 0.8:\", roc_auc)\n",
    "else:\n",
    "    print(\"Метрика ROC AUC меньше или равна 0.8:\", roc_auc)"
   ]
  }
 ],
 "metadata": {
  "kernelspec": {
   "display_name": "Python 3",
   "language": "python",
   "name": "python3"
  },
  "language_info": {
   "codemirror_mode": {
    "name": "ipython",
    "version": 3
   },
   "file_extension": ".py",
   "mimetype": "text/x-python",
   "name": "python",
   "nbconvert_exporter": "python",
   "pygments_lexer": "ipython3",
   "version": "3.10.7"
  }
 },
 "nbformat": 4,
 "nbformat_minor": 2
}
