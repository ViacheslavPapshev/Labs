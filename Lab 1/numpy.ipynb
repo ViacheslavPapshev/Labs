{
  "cells": [
    {
      "cell_type": "markdown",
      "metadata": {
        "id": "vC84e9kzyxPy"
      },
      "source": [
        "<h1>Импорт библиотек"
      ]
    },
    {
      "cell_type": "code",
      "execution_count": 3,
      "metadata": {
        "id": "cgKeNegmQG5S"
      },
      "outputs": [],
      "source": [
        "import numpy as np\n",
        "import matplotlib.pyplot as plt"
      ]
    },
    {
      "cell_type": "markdown",
      "metadata": {
        "id": "qFM9uVU2x4Ls"
      },
      "source": [
        "<h1>Задача 1. Дан набор из $p$ матриц размерностью $(n, n)$ и $p$ векторов размерностью $(n, 1)$, найти сумму произведений матриц на векторы. Написать тесты для кода"
      ]
    },
    {
      "cell_type": "code",
      "execution_count": 30,
      "metadata": {
        "id": "IAbUvEiYyWFF"
      },
      "outputs": [
        {
          "name": "stdout",
          "output_type": "stream",
          "text": [
            "[array([[1, 2],\n",
            "       [1, 2]]), array([[1, 2],\n",
            "       [1, 2]])]\n",
            "[array([1, 2]), array([1, 2])]\n",
            "2 2\n",
            "[5 5]\n",
            "[5 5]\n"
          ]
        },
        {
          "data": {
            "text/plain": [
              "array([[10, 10],\n",
              "       [10, 10]])"
            ]
          },
          "execution_count": 30,
          "metadata": {},
          "output_type": "execute_result"
        }
      ],
      "source": [
        "import numpy as np\n",
        "import matplotlib.pyplot as plt\n",
        "#метод для создания списка матриц\n",
        "def mat(m,i):\n",
        "    s=0\n",
        "    z=[]\n",
        "    while s<m:\n",
        "        n=[]\n",
        "        q=0\n",
        "        a=0\n",
        "        while q<i**2:\n",
        "            n.append(int(input()))\n",
        "            q+=1\n",
        "        a=np.array(n, int)\n",
        "        a=a.reshape((i,i))\n",
        "        s+=1\n",
        "        z.append(a)\n",
        "    print(z)\n",
        "    return z\n",
        "#метод для создания списка векторов\n",
        "def vec(m,i):\n",
        "    s=0\n",
        "    z=[]\n",
        "    while s<m:\n",
        "        v=[]\n",
        "        q=0\n",
        "        while q<i:\n",
        "            v.append(int(input()))\n",
        "            q+=1\n",
        "        v=np.array(v)\n",
        "        z.append(v)\n",
        "        s+=1\n",
        "    print(z)\n",
        "    return z\n",
        "#Метод суммирования произведений матриц на векторы\n",
        "def sum(a,v,i):\n",
        "    q=0\n",
        "    s=[]\n",
        "    while q<i**2:\n",
        "        s.append(0)\n",
        "        q+=1\n",
        "    s=np.array(s)\n",
        "    s=s.reshape((i,i))\n",
        "    q=0\n",
        "    i=0\n",
        "    print(len(v), len(a))\n",
        "    while q<len(v):\n",
        "        f=a[q].dot(v[q])\n",
        "        print(f)\n",
        "        s=np.add(s,f)\n",
        "        q+=1\n",
        "    return s\n",
        "    \n",
        "#test (2 матрицы размером 2 на 2 (1,2/ 1,2), 2 вектора столбца размером 2 на 1(1,2), сумма произведения матриц (10,10/ 10, 10))\n",
        "sum(mat(2,2),vec(2,2),2)"
      ]
    },
    {
      "cell_type": "markdown",
      "metadata": {
        "id": "TKwPG4fIy2w4"
      },
      "source": [
        "<h1>Задача 2. Дана матрица M, напишите функцию, которая бинаризует матрицу по некоторому threshold (то есть, все значения большие threshold становятся равными 1, иначе 0). Напишите тесты для кода"
      ]
    },
    {
      "cell_type": "code",
      "execution_count": 38,
      "metadata": {
        "id": "KQDNMgsjRNH7"
      },
      "outputs": [
        {
          "name": "stdout",
          "output_type": "stream",
          "text": [
            "<class 'numpy.ndarray'>\n",
            "(2, 3)\n",
            "[[0. 1. 1.]\n",
            " [1. 1. 1.]]\n"
          ]
        }
      ],
      "source": [
        "def binarize(M, threshold=0.5):\n",
        "    a=M.shape\n",
        "    s1=a[0]\n",
        "    s2=a[1]\n",
        "    print(a)\n",
        "    for i in range(s1):\n",
        "        for b in range(s2):\n",
        "            if M[i][b]>threshold:\n",
        "                M[i][b]=1\n",
        "            else:\n",
        "                M[i][b]=0\n",
        "    return(M)\n",
        "#test\n",
        "a=np.array([[0.4,2,3],[4,5,6]],float)\n",
        "print(type(a))\n",
        "print(binarize(a))\n"
      ]
    },
    {
      "cell_type": "markdown",
      "metadata": {
        "id": "IY5L-h-7zWhN"
      },
      "source": [
        "<h1>Задача 3. Напишите функцию, которая возвращает уникальные элементы из каждой строки матрицы. Напишите такую же функцию, но для столбцов. Напишите тесты для кода"
      ]
    },
    {
      "cell_type": "code",
      "execution_count": 56,
      "metadata": {
        "id": "-8dEZhR0SBC-"
      },
      "outputs": [
        {
          "name": "stdout",
          "output_type": "stream",
          "text": [
            "[[0.4 2.  3. ]\n",
            " [4.  5.  6. ]\n",
            " [6.  5.  6. ]]\n",
            "(3, 3)\n",
            "(3, 3)\n"
          ]
        },
        {
          "data": {
            "text/plain": [
              "[0.4, 4.0, 6.0, 2.0, 5.0, 3.0, 6.0]"
            ]
          },
          "execution_count": 56,
          "metadata": {},
          "output_type": "execute_result"
        }
      ],
      "source": [
        "def unique_rows(mat):\n",
        "    a=mat.shape\n",
        "    s1=a[0]\n",
        "    s2=a[1]\n",
        "    print(a)\n",
        "    u=[]\n",
        "    for i in range(s1):\n",
        "        for b in range(s2):\n",
        "            x=True\n",
        "            for s in range(b+1,s2):\n",
        "                if mat[i][b]==mat[i][s]:\n",
        "                    x=False\n",
        "                    break\n",
        "            if x==True:\n",
        "                u.append(mat[i][b])    \n",
        "            \n",
        "    return u\n",
        "\n",
        "def unique_columns(mat):\n",
        "    a=mat.shape\n",
        "    s1=a[0]\n",
        "    s2=a[1]\n",
        "    print(a)\n",
        "    u=[]\n",
        "    for i in range(s2):\n",
        "        for b in range(s1):\n",
        "            x=True\n",
        "            for s in range(b+1,s1):\n",
        "                if mat[b][i]==mat[s][i]:\n",
        "                    x=False\n",
        "                    break\n",
        "            if x==True:\n",
        "                u.append(mat[b][i])\n",
        "    return u\n",
        "#test\n",
        "a=np.array([[0.4,2,3],[4,5,6],[6,5,6]],float)\n",
        "print(a)\n",
        "unique_rows(a)\n",
        "unique_columns(a)\n"
      ]
    },
    {
      "cell_type": "markdown",
      "metadata": {
        "id": "roYAlo4Jz-lH"
      },
      "source": [
        "<h1>Задача 4. Напишите функцию, которая заполняет матрицу с размерами $(m, n)$ случайными числами, распределенными по нормальному закону. Затем считает мат. ожидание и дисперсию для каждого из столбцов и строк, а также строит для каждой строки и столбца гистограмму значений (использовать функцию hist из модуля matplotlib.plot)"
      ]
    },
    {
      "cell_type": "code",
      "execution_count": 53,
      "metadata": {
        "id": "nZK_71hMSQzv"
      },
      "outputs": [
        {
          "name": "stdout",
          "output_type": "stream",
          "text": [
            "-2168219.979348164 90826710323962.55\n",
            "1365416.154592517 72838605902899.17\n",
            "1206809.795799532 25008726125938.074\n",
            "-2620792.1681136726 60642275003771.72\n",
            "4600855.967189466 73827973941957.48\n",
            "2074408.6971521429 54336865614806.234\n",
            "2074408.6971521429 54336865614806.234\n",
            "2074408.6971521429 54336865614806.234\n",
            "2074408.6971521429 54336865614806.234\n",
            "2074408.6971521429 54336865614806.234\n",
            "2074408.6971521429 54336865614806.234\n"
          ]
        },
        {
          "data": {
            "image/png": "[encoded data removed]",
            "text/plain": [
              "<Figure size 640x480 with 1 Axes>"
            ]
          },
          "metadata": {},
          "output_type": "display_data"
        }
      ],
      "source": [
        "import numpy as np\n",
        "import random\n",
        "import matplotlib.pyplot as plt\n",
        "def Fal(n,m):\n",
        "    a=[]\n",
        "    for i in range(n):\n",
        "        a.append([])\n",
        "    for i in range(n):\n",
        "        for c in range(m):\n",
        "            a[i].append(random.normalvariate(0, 9999999))\n",
        "    a=np.array(a)\n",
        "    a=a.reshape(n,m)\n",
        "    for i in range(n):\n",
        "        f=a[i].mean()\n",
        "        x=a[i].var()\n",
        "        plt.hist(a[i]) #Гистограмма для строк\n",
        "        print(f,x) # Математическое ожидание и дисперсия для строк\n",
        "    for c in range(m):\n",
        "        s=[]\n",
        "        for i in range(n):\n",
        "            s.append(a[i][0])\n",
        "        s=np.array(s)\n",
        "        s.reshape(m-1,1)\n",
        "        q=s.mean()\n",
        "        d=s.var()\n",
        "        plt.hist(s) #Гистограмма для столбцов\n",
        "        print(q,d) # Математическое ожидание и дисперсия для столбцов\n",
        "    \n",
        "\n",
        "#test\n",
        "n=5\n",
        "m=6\n",
        "Fal(n,m)\n",
        "    "
      ]
    },
    {
      "cell_type": "markdown",
      "metadata": {
        "id": "BDyATNdM0dJ2"
      },
      "source": [
        "<h1>Задача 5. Напишите функцию, которая заполняет матрицу $(m, n)$ в шахматном порядке заданными числами $a$ и $b$. Напишите тесты для кода"
      ]
    },
    {
      "cell_type": "code",
      "execution_count": 77,
      "metadata": {
        "id": "RWNJYWQGecS6"
      },
      "outputs": [
        {
          "name": "stdout",
          "output_type": "stream",
          "text": [
            "[[5 0 5 0 5]\n",
            " [0 5 0 5 0]\n",
            " [5 0 5 0 5]\n",
            " [0 5 0 5 0]\n",
            " [5 0 5 0 5]\n",
            " [0 5 0 5 0]]\n"
          ]
        },
        {
          "data": {
            "text/plain": [
              "array([[5, 0, 5, 0, 5],\n",
              "       [0, 5, 0, 5, 0],\n",
              "       [5, 0, 5, 0, 5],\n",
              "       [0, 5, 0, 5, 0],\n",
              "       [5, 0, 5, 0, 5],\n",
              "       [0, 5, 0, 5, 0]])"
            ]
          },
          "execution_count": 77,
          "metadata": {},
          "output_type": "execute_result"
        }
      ],
      "source": [
        "def chess(n, m, a, b):\n",
        "    x=[]\n",
        "    for i in range(n):\n",
        "        for t in range(m):\n",
        "            x.append(0)\n",
        "    x=np.array(x)\n",
        "    x=x.reshape(n,m)\n",
        "    for i in range(n):\n",
        "        for t in range(m):\n",
        "            if (i+t+1)%2==0:\n",
        "                x[i][t]=a\n",
        "            else:\n",
        "                x[i][t]=b\n",
        "    print(x)\n",
        "    return(x)\n",
        "#test\n",
        "chess(6,5,0,5)"
      ]
    },
    {
      "cell_type": "markdown",
      "metadata": {
        "id": "-ymXLtTN0vB6"
      },
      "source": [
        "<h1>Задача 6. Напишите функцию, которая отрисовывает прямоугольник с заданными размерами (a, b) на изображении размера (m, n), цвет фона задайте в схеме RGB, как и цвет прямоугольника. Цвета также должны быть параметрами функции. Напишите аналогичную функцию но для овала с полуосями a и b. Напишите тесты для кода.\n",
        "Примечание: уравнение эллипса (границы овала) можно записать как:\n",
        "<h1>$\\frac{(x-x_0)^2}{a^2}+\\frac{(y-y_0)^2}{b^2}=1$"
      ]
    },
    {
      "cell_type": "code",
      "execution_count": 21,
      "metadata": {
        "id": "sNfl1t_kfOF4"
      },
      "outputs": [
        {
          "name": "stdout",
          "output_type": "stream",
          "text": [
            "[0, 0, 0]\n",
            "[255, 0, 0]\n"
          ]
        },
        {
          "ename": "SystemExit",
          "evalue": "",
          "output_type": "error",
          "traceback": [
            "An exception has occurred, use %tb to see the full traceback.\n",
            "\u001b[1;31mSystemExit\u001b[0m\n"
          ]
        }
      ],
      "source": [
        "import pygame\n",
        "import sys\n",
        "def draw_rectangle(a,b, m, n,c,f):\n",
        "    x=50\n",
        "    y=50\n",
        "    screen = pygame.display.set_mode((m, n))\n",
        "    screen.fill(f)\n",
        "    pygame.display.update()\n",
        "    r = pygame.Rect(x, y, x+a, y+b)\n",
        "    pygame.draw.rect(screen, (c), r, 400)\n",
        "def draw_ellipse(a,b, m, n,c,f):\n",
        "    x=50\n",
        "    y=50\n",
        "    screen = pygame.display.set_mode((m, n))\n",
        "    screen.fill(f)\n",
        "    pygame.display.update()\n",
        "    r = pygame.Rect(x, y, x+a*2, y+b*2)\n",
        "    pygame.draw.ellipse(screen, (c), r, 400)\n",
        "\n",
        "pygame.init()\n",
        "\n",
        "\n",
        "a=50#int(input()) Полуось эллипса либо ширина пряоугольника\n",
        "b=70#int(input()) Полуось эллипса либо ширина пряоугольника\n",
        "m=600#int(input()) Ширина экрана\n",
        "n=500#int(input()) Высота экрана\n",
        "c=[]\n",
        "for i in range(3):\n",
        "    c.append(int(input('Введите число от 0 до 255')))\n",
        "print(c) #Цвет фигуры\n",
        "f=[]\n",
        "for i in range(3):\n",
        "    f.append(int(input('Введите число от 0 до 255')))\n",
        "print(f)# Цвет окна (и фона)\n",
        "\n",
        "z=int(input('Введите 1 для прямоугольника, 2 для эллипса'))\n",
        "if z==1:\n",
        "    draw_rectangle(a,b,m,n,c,f)\n",
        "if z==2:\n",
        "    draw_ellipse(a,b,m,n,c,f)\n",
        "\n",
        "\n",
        "while True:\n",
        "    for event in pygame.event.get():\n",
        "        if event.type == pygame.QUIT:\n",
        "            pygame.quit()\n",
        "            sys.exit()\n",
        "    pygame.display.flip()"
      ]
    },
    {
      "cell_type": "markdown",
      "metadata": {
        "id": "S82c38oz244H"
      },
      "source": [
        "<h1>Задача 7. Дан некий временной ряд. Для данного ряда нужно найти его: математическое ожидание, дисперсию, СКО, найти все локальные максимумы и минимумы (локальный максимум - это точка, которая больше своих соседних точек, а локальный минимум - это точка, которая меньше своих соседей), а также вычислить для данного ряда другой ряд, получаемый методом скользящего среднего с размером окна $p$.\n",
        "<h1>Примечание: метод скользящего среднего подразумевает нахождение среднего из подмножетсва ряда размером $p$"
      ]
    },
    {
      "cell_type": "code",
      "execution_count": 68,
      "metadata": {
        "id": "Zb9mIVge5MMt"
      },
      "outputs": [
        {
          "name": "stdout",
          "output_type": "stream",
          "text": [
            "[[1427321 8094787 6380614 4376674]\n",
            " [      0       1       2       3]]\n",
            "5069849.0\n",
            "6154214150119.5\n",
            "2480768.862695495\n",
            "[8094787]\n",
            "[]\n",
            "[3975680.5  4713018.75]\n"
          ]
        }
      ],
      "source": [
        "def movav(x, k):\n",
        "    cumsum = np.cumsum(np.insert(x, 0, 0)) \n",
        "    return (cumsum[k:] - cumsum[:-k]) / float(n)\n",
        "def row(n):\n",
        "    s=[]\n",
        "    s.append([])\n",
        "    s.append([])\n",
        "    t=0\n",
        "    mi=[]\n",
        "    ma=[]\n",
        "    for i in range(n):\n",
        "        s[0].append(random.randint(0, 9999999))\n",
        "        s[1].append(t)\n",
        "        t+=1\n",
        "    s=np.array(s)\n",
        "    s=s.reshape(2,n)\n",
        "    print(s)\n",
        "    print(s[0].mean()) #Математическое ожидание\n",
        "    print(s[0].var()) #Дисперсия\n",
        "    print(s[0].std()) #СКО\n",
        "    for i in range(1,len(s-1)):\n",
        "        if (s[0][i]>s[0][i-1]) and (s[0][i]>s[0][i+1]):\n",
        "            ma.append(s[0][i])\n",
        "        if (s[0][i] < s[0][i-1]) and (s[0][i] < s[0][i+1]):\n",
        "            mi.append(s[0][i])\n",
        "    print(ma) # Локальные макс\n",
        "    print(mi) # Локальные мин\n",
        "    k=int(input('Введите диапазон для скользящего среднего'))\n",
        "    print(movav(s[0],k))\n",
        "#test\n",
        "n=4\n",
        "row(n)"
      ]
    },
    {
      "cell_type": "markdown",
      "metadata": {
        "id": "jPkylmOX5O9n"
      },
      "source": [
        "<h1> Задача 8. Дан некоторый вектор с целочисленными метками классов, напишите функцию, которая выполняет one-hot-encoding для данного вектора\n",
        "<h1> One-hot-encoding - представление, в котором на месте метки некоторого класса стоит 1, в остальных позициях стоит 0. Например для вектора [0, 2, 3, 0] one-hot-encoding выглядит как: [[1, 0, 0, 0], [0, 0, 1, 0], [0, 0, 0, 1], [1, 0, 0, 0]]"
      ]
    },
    {
      "cell_type": "code",
      "execution_count": 3,
      "metadata": {
        "id": "Y-jlnZvw56lD"
      },
      "outputs": [
        {
          "name": "stdout",
          "output_type": "stream",
          "text": [
            "[[0, 0, 0, 1], [0, 1, 0, 0], [1, 0, 0, 0]]\n"
          ]
        },
        {
          "data": {
            "text/plain": [
              "[[0, 0, 0, 1], [0, 1, 0, 0], [1, 0, 0, 0]]"
            ]
          },
          "execution_count": 3,
          "metadata": {},
          "output_type": "execute_result"
        }
      ],
      "source": [
        "def ohe(n):\n",
        "    s=[]\n",
        "    i=0\n",
        "    while i<n:\n",
        "        f=int(input()) #Ввод чисел 3, 1, 0\n",
        "        s.append(f)\n",
        "        i+=1\n",
        "    q=[]\n",
        "    y=len(s)\n",
        "    x=max(s)+1\n",
        "    for t in range(y):\n",
        "        q.append([])\n",
        "    for t in range(y):\n",
        "        for p in range(x):\n",
        "            if s[t]==p:\n",
        "                q[t].append(1)\n",
        "            else:\n",
        "                q[t].append(0)\n",
        "    print(q) #результат [[0, 0, 0, 1], [0, 1, 0, 0], [1, 0, 0, 0]]\n",
        "    return q\n",
        "#test\n",
        "s=[]\n",
        "n=3 # число 3 - размерность масства\n",
        "ohe(n)"
      ]
    }
  ],
  "metadata": {
    "colab": {
      "provenance": []
    },
    "kernelspec": {
      "display_name": "Python 3",
      "name": "python3"
    },
    "language_info": {
      "codemirror_mode": {
        "name": "ipython",
        "version": 3
      },
      "file_extension": ".py",
      "mimetype": "text/x-python",
      "name": "python",
      "nbconvert_exporter": "python",
      "pygments_lexer": "ipython3",
      "version": "3.10.7"
    }
  },
  "nbformat": 4,
  "nbformat_minor": 0
}
