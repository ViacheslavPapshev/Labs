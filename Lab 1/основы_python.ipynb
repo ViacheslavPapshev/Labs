{
  "cells": [
    {
      "cell_type": "markdown",
      "metadata": {
        "id": "M-DGa20PaHnu"
      },
      "source": [
        "#Задача 1\n",
        "Написать функцию на вход которой подается строка, состоящая из латинских букв.\n",
        "Функция должна вернуть количество гласных букв (a, e, i, o, u) в этой строке. Написать тесты для кода"
      ]
    },
    {
      "cell_type": "code",
      "execution_count": 4,
      "metadata": {
        "id": "XvX8X_JJ6PCb"
      },
      "outputs": [
        {
          "name": "stdout",
          "output_type": "stream",
          "text": [
            "3\n"
          ]
        }
      ],
      "source": [
        "def F(n):\n",
        "    s=0\n",
        "    for i in range (len(n)):\n",
        "        if (n[i]=='a') or (n[i]=='e') or (n[i]=='i') or (n[i]=='o') or (n[i]=='u'):\n",
        "            s+=1\n",
        "    return s\n",
        "#test\n",
        "n='aefort'\n",
        "p=F(n)\n",
        "print(p)"
      ]
    },
    {
      "cell_type": "markdown",
      "metadata": {
        "id": "t2ClV_Y0bbr6"
      },
      "source": [
        "# Задача 2\n",
        "Написать функцию на вход, которой подается строка. Функция должна вернуть true, если\n",
        "каждый символ в строке встречается только 1 раз, иначе должна вернуть false. Написать тесты для кода"
      ]
    },
    {
      "cell_type": "code",
      "execution_count": 7,
      "metadata": {
        "id": "FppbECao6VIz"
      },
      "outputs": [
        {
          "name": "stdout",
          "output_type": "stream",
          "text": [
            "False\n"
          ]
        }
      ],
      "source": [
        "def F(n):\n",
        "    for i in range (len(n)):\n",
        "        for c in range(i+1,len(n)-1):\n",
        "            if n[i] == n[c]:\n",
        "                return False\n",
        "    return True\n",
        "    \n",
        "#test\n",
        "n='aaefort'\n",
        "p=F(n)\n",
        "print(p)"
      ]
    },
    {
      "cell_type": "markdown",
      "metadata": {
        "id": "udRiIK1cdt6E"
      },
      "source": [
        "# Задача 3\n",
        "Написать функцию, которая принимает положительное число и возвращает количество\n",
        "бит равных 1 в этом числе. Написать тесты для кода"
      ]
    },
    {
      "cell_type": "code",
      "execution_count": 16,
      "metadata": {
        "id": "6tkfDJRz6dp_"
      },
      "outputs": [
        {
          "name": "stdout",
          "output_type": "stream",
          "text": [
            "0b111110100\n",
            "6\n"
          ]
        }
      ],
      "source": [
        "def F(n):\n",
        "    s=str(bin(n))\n",
        "    print(s)\n",
        "    m=0\n",
        "    for i in range(2,len(s)):\n",
        "        if s[i]=='1':\n",
        "            m+=1\n",
        "    return m\n",
        "#test\n",
        "n=500\n",
        "p=F(n)\n",
        "print(p)\n"
      ]
    },
    {
      "cell_type": "markdown",
      "metadata": {
        "id": "26dDUz-Ae17N"
      },
      "source": [
        "# Задача 4\n",
        "Написать функцию, которая принимает положительное число. Функция должна вернуть то,\n",
        "сколько раз необходимо перемножать цифры числа или результат перемножения, чтобы\n",
        "получилось число состоящее из одной цифры.\n",
        "Например, для входного числа:\n",
        "· 39 функция должна вернуть 3, так как 3*9=27 => 2*7=14 => 1*4=4\n",
        "· 4 функция должна вернуть 0, так как число уже состоит из одной цифры\n",
        "· 999 функция должна вернуть 4, так как 9*9*9=729 => 7*2*9=126 => 1*2*6=12 =>\n",
        "1*2=2. Написать тесты для кода"
      ]
    },
    {
      "cell_type": "code",
      "execution_count": 2,
      "metadata": {
        "id": "BH1A_Mgi6i4G"
      },
      "outputs": [
        {
          "name": "stdout",
          "output_type": "stream",
          "text": [
            "4\n"
          ]
        }
      ],
      "source": [
        "def F(n):\n",
        "    i=0    \n",
        "    while (n//10!=0):\n",
        "        a=[]\n",
        "        s=0\n",
        "        o=1\n",
        "        while (n//10!=0):\n",
        "            s=n%10\n",
        "            a.append(s)\n",
        "            n//=10\n",
        "        for b in range(len(a)):\n",
        "            o*=a[b]\n",
        "        o*=n%10\n",
        "        n=o\n",
        "        i+=1\n",
        "    return i\n",
        "#test\n",
        "n=999\n",
        "p = F(n)\n",
        "print(p)"
      ]
    },
    {
      "cell_type": "markdown",
      "metadata": {
        "id": "0nS-kIa8g8vd"
      },
      "source": [
        "# Задача 5\n",
        "Написать функцию, которая принимает два целочисленных вектора одинаковой длины и\n",
        "возвращает среднеквадратическое отклонение двух векторов. Написать тесты для кода"
      ]
    },
    {
      "cell_type": "code",
      "execution_count": 20,
      "metadata": {
        "id": "8iphx4LM6xbx"
      },
      "outputs": [
        {
          "name": "stdout",
          "output_type": "stream",
          "text": [
            "[4]\n",
            "[4, 5]\n",
            "[4, 5, 6]\n",
            "[3]\n",
            "[3, 6]\n",
            "[3, 6, 4]\n",
            "[0.816496580927726, 1.247219128924647]\n"
          ]
        }
      ],
      "source": [
        "import numpy as np\n",
        "def mse(pred, true):\n",
        "    f=[]\n",
        "    a=np.std(pred)\n",
        "    f.append(a)\n",
        "    b=np.std(true)\n",
        "    f.append(b)\n",
        "    return f\n",
        "#test\n",
        "v1=[]\n",
        "v2=[]\n",
        "\n",
        "for i in range(3):\n",
        "    v1.append(int(input()))\n",
        "    print(v1)\n",
        "for i in range(3):    \n",
        "    v2.append(int(input()))\n",
        "    print(v2)\n",
        "a=np.array(v1)\n",
        "b=np.array(v2)\n",
        "print(mse(a,b))\n"
      ]
    },
    {
      "cell_type": "markdown",
      "metadata": {
        "id": "vpIPKL439zkw"
      },
      "source": [
        "# Задача 6\n",
        "Написать функцию, принимающая целое положительное число. Функция должна вернуть\n",
        "строку вида “(n1**p1)(n2**p2)…(nk**pk)” представляющая разложение числа на простые\n",
        "множители (если pi == 1, то выводить только ni).\n",
        "Например, для числа 86240 функция должна вернуть “(2**5)(5)(7**2)(11)”. Написать тесты для кода"
      ]
    },
    {
      "cell_type": "code",
      "execution_count": 71,
      "metadata": {
        "id": "pFebmcZk94Jw"
      },
      "outputs": [
        {
          "name": "stdout",
          "output_type": "stream",
          "text": [
            "[2, 3, 5, 7, 11, 13, 17, 19, 23, 29, 31, 37, 41, 43, 47, 53, 59, 61, 67, 71, 73, 79, 83, 89, 97, 101, 103, 107, 109, 113, 127, 131, 137, 139, 149, 151, 157, 163, 167, 173, 179, 181, 191, 193, 197, 199, 211, 223, 227, 229, 233, 239, 241, 251, 257, 263, 269, 271, 277, 281, 283, 293, 307, 311, 313, 317, 331, 337, 347, 349]\n",
            "[2, 5, 5, 7]\n",
            "( 2  **  1 )( 5  **  2 )( 7  **  1 )"
          ]
        }
      ],
      "source": [
        "def mul(a):\n",
        "    s=[]\n",
        "    z=[]\n",
        "    while True:\n",
        "        for i in range(2,a):\n",
        "            p=0\n",
        "            for b in range(1,i+1):\n",
        "                if i%b==0:\n",
        "                    p+=1\n",
        "            if p==2:\n",
        "                s.append(i)\n",
        "        print(s)\n",
        "        for t in range(len(s)):\n",
        "            while a%s[t]==0:\n",
        "                z.append(s[t])\n",
        "                a=a/s[t]\n",
        "        break\n",
        "    print(z)\n",
        "    i=0\n",
        "    while i<len(z):\n",
        "        f=z.count(z[i])\n",
        "        print('(', z[i] ,' ** ', f ,')', end='')\n",
        "        i=i+1+(f-1)\n",
        "#test\n",
        "\n",
        "mul(350)\n"
      ]
    },
    {
      "cell_type": "markdown",
      "metadata": {
        "id": "ps2s0BudX7A2"
      },
      "source": [
        "# Задача 7\n",
        "Написать функцию, принимающая целое число n, задающее количество кубиков. Функция\n",
        "должна определить, можно ли из данного кол-ва кубиков построить пирамиду, то есть\n",
        "можно ли представить число n как 1^2+2^2+3^2+…+k^2. Если можно, то функция должна\n",
        "вернуть k, иначе строку “It is impossible”. Написать тесты для кода"
      ]
    },
    {
      "cell_type": "code",
      "execution_count": 45,
      "metadata": {
        "id": "3YPjEXxhX_YT"
      },
      "outputs": [
        {
          "name": "stdout",
          "output_type": "stream",
          "text": [
            "3\n"
          ]
        }
      ],
      "source": [
        "def pyramid(a):\n",
        "    l=0\n",
        "    s=0\n",
        "    while s<a:\n",
        "        s+=l**2\n",
        "        l+=1\n",
        "        if s==a:\n",
        "            return l-1\n",
        "    return 'It is impossible'\n",
        "    \n",
        "#test\n",
        "a=pyramid(14)\n",
        "print(a)\n",
        "            "
      ]
    },
    {
      "cell_type": "markdown",
      "metadata": {
        "id": "KeKgmIdAQMEJ"
      },
      "source": [
        "# Задача 8\n",
        "Функция принимает на вход положительное число и определяет является ли оно сбалансированным, т.е. сумма цифр до средних равна сумме цифр после. Средними в случае нечетного числа цифр считать одну цифру, в случае четного - две средних. Написать тесты для кода"
      ]
    },
    {
      "cell_type": "code",
      "execution_count": 69,
      "metadata": {
        "id": "gMAAqtqlQrZt"
      },
      "outputs": [
        {
          "data": {
            "text/plain": [
              "'balanced'"
            ]
          },
          "execution_count": 69,
          "metadata": {},
          "output_type": "execute_result"
        }
      ],
      "source": [
        "def bal(a):\n",
        "    s=[]\n",
        "    while a/10>0:\n",
        "        s.append(a%10)\n",
        "        a=a//10\n",
        "    if len(s)%2==0:\n",
        "        p=len(s)//2\n",
        "        f1=sum(s[:p])\n",
        "        f2=sum(s[p:])\n",
        "        if f1==f2:\n",
        "            return 'balanced' \n",
        "        else: return 'unbalanced' \n",
        "    if len(s)%2!=0:\n",
        "        p=len(s)//2\n",
        "        f1=sum(s[:p])\n",
        "        f2=sum(s[p//2 + 2:])\n",
        "        if f1==f2:\n",
        "            return 'balanced'\n",
        "        else: return 'unbalanced' \n",
        "#test\n",
        "bal(1212)\n"
      ]
    }
  ],
  "metadata": {
    "colab": {
      "provenance": []
    },
    "kernelspec": {
      "display_name": "Python 3",
      "name": "python3"
    },
    "language_info": {
      "codemirror_mode": {
        "name": "ipython",
        "version": 3
      },
      "file_extension": ".py",
      "mimetype": "text/x-python",
      "name": "python",
      "nbconvert_exporter": "python",
      "pygments_lexer": "ipython3",
      "version": "3.10.7"
    }
  },
  "nbformat": 4,
  "nbformat_minor": 0
}
